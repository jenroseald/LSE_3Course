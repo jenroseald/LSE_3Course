{
 "cells": [
  {
   "cell_type": "markdown",
   "id": "01390337",
   "metadata": {},
   "source": [
    "## 3 Course 1.1.9 What If Practical Activity"
   ]
  },
  {
   "cell_type": "markdown",
   "id": "2ff17444",
   "metadata": {},
   "source": [
    "Your client, age 55, wants to retire when his wealth exceeds £2 million. His current salary of £250,000, the cost of living of 3%, a savings rate of 15%, an interest rate of 5%, and 2 promotions per year at a promotion raise of 10%. \n",
    "\n",
    "Will your client be able to retire at age 65? To prepare your findings for presentation, you now need to summarise your results and visualise the change in wealth over time for the client. "
   ]
  },
  {
   "cell_type": "code",
   "execution_count": 1,
   "id": "0e61ffd3",
   "metadata": {},
   "outputs": [],
   "source": [
    "# Defines classes to contain and encapsulate data.\n",
    "from dataclasses import dataclass \n",
    "import pandas as pd\n",
    "\n",
    "# Import in-built module for generating random numbers. \n",
    "import random \n",
    "\n",
    "# Display output inline.\n",
    "%matplotlib inline\n",
    "\n",
    "# Import to replicate a nested loop over the input values.\n",
    "from sensitivity import SensitivityAnalyzer"
   ]
  },
  {
   "cell_type": "markdown",
   "id": "b52d5abf",
   "metadata": {},
   "source": [
    "### Define the Model Inputs"
   ]
  },
  {
   "cell_type": "code",
   "execution_count": 3,
   "id": "e9cd1e5c",
   "metadata": {
    "scrolled": true
   },
   "outputs": [
    {
     "data": {
      "text/plain": [
       "ModelInputs(starting_salary=250000, promos_every_n_years=2, cost_of_living_raise=0.03, promo_raise=0.1, savings_rate=0.15, interest_rate=0.05, desired_cash=2000000)"
      ]
     },
     "execution_count": 3,
     "metadata": {},
     "output_type": "execute_result"
    }
   ],
   "source": [
    "# Create a DataFrame consisting of various classes using Python's 'dataclass()'\n",
    "# module and Object Oriented programming (OPP).\n",
    "@dataclass\n",
    "\n",
    "class ModelInputs: \n",
    "    # Define the class and specify the default inputs. \n",
    "    starting_salary: int =250000\n",
    "    promos_every_n_years: int = 2\n",
    "    cost_of_living_raise: float = 0.03\n",
    "    promo_raise: float = 0.10\n",
    "    savings_rate: float = 0.15\n",
    "    interest_rate: float = 0.05\n",
    "    desired_cash: int = 2000000\n",
    "\n",
    "# Create an instance of the new class with the default inputs.\n",
    "model_data = ModelInputs() \n",
    "\n",
    "# Print the results.\n",
    "model_data"
   ]
  },
  {
   "cell_type": "markdown",
   "id": "bfe9db25",
   "metadata": {},
   "source": [
    "### Determine the probable wages each year"
   ]
  },
  {
   "cell_type": "code",
   "execution_count": 4,
   "id": "9443a5f1",
   "metadata": {},
   "outputs": [
    {
     "name": "stdout",
     "output_type": "stream",
     "text": [
      "The wage at year 1 is £257,500.\n",
      "The wage at year 2 is £291,748.\n",
      "The wage at year 3 is £300,500.\n",
      "The wage at year 4 is £340,466.\n"
     ]
    }
   ],
   "source": [
    "# Calculate wage at a given year from start of the model based on cost of living, \n",
    "# raises and regular promotion.\n",
    "def wages_year(data: ModelInputs, year)->float:\n",
    "    \"\"\"\n",
    "    Gets the wage at a given year from the start of the model based \n",
    "    on cost of living raises and regular promotions.\n",
    "    \"\"\"\n",
    "    # Every n years we have a promotion, so dividing the years and taking \n",
    "    # out the decimals gets the number of promotions.\n",
    "    num_promos = int(year / data.promos_every_n_years)\n",
    "    \n",
    "    # This is the formula above implemented in Python.\n",
    "    salary_t = data.starting_salary * (1 + data.cost_of_living_raise)\\\n",
    "    ** year * (1 + data.promo_raise) ** num_promos\n",
    "    return salary_t\n",
    "\n",
    "for i in range(4):\n",
    "    year = i + 1\n",
    "    salary = wages_year(model_data, year)\n",
    "    print(f'The wage at year {year} is £{salary:,.0f}.')"
   ]
  },
  {
   "cell_type": "markdown",
   "id": "429cb768",
   "metadata": {},
   "source": [
    "### Calculate the cash saved for a given year"
   ]
  },
  {
   "cell_type": "code",
   "execution_count": 8,
   "id": "2d86a545",
   "metadata": {},
   "outputs": [],
   "source": [
    "def cash_saved_during_year(data: ModelInputs, year):\n",
    "    \"\"\"\n",
    "    Calculated the cash saved within a given year, by first \n",
    "    calculating the salary at that year then applying the \n",
    "    savings rate.\n",
    "    \"\"\"\n",
    "    salary = wages_year(data, year)\n",
    "    cash_saved = salary * data.savings_rate\n",
    "    return cash_saved"
   ]
  },
  {
   "cell_type": "markdown",
   "id": "0f9b4db8",
   "metadata": {},
   "source": [
    "### Calculate the accumlated wealth for a given year"
   ]
  },
  {
   "cell_type": "code",
   "execution_count": 9,
   "id": "71576282",
   "metadata": {},
   "outputs": [],
   "source": [
    "def wealth_year(data: ModelInputs, year, prior_wealth):\n",
    "    \"\"\"\n",
    "    Calculate the accumulated wealth for a given year, \n",
    "    based on previous wealth, the investment rate,\n",
    "    and cash saved during the year.\n",
    "    \"\"\"\n",
    "    cash_saved = cash_saved_during_year(data, year)\n",
    "    wealth = prior_wealth * (1 + data.interest_rate) + cash_saved\n",
    "    return wealth"
   ]
  },
  {
   "cell_type": "markdown",
   "id": "43dc1ed9",
   "metadata": {},
   "source": [
    "### Start with no cash saved"
   ]
  },
  {
   "cell_type": "code",
   "execution_count": 10,
   "id": "0554d934",
   "metadata": {},
   "outputs": [
    {
     "name": "stdout",
     "output_type": "stream",
     "text": [
      "The wealth at year 1 is £38,625.\n",
      "The wealth at year 2 is £84,318.\n",
      "The wealth at year 3 is £133,609.\n",
      "The wealth at year 4 is £191,360.\n"
     ]
    }
   ],
   "source": [
    "# Starting with no cash saved.\n",
    "prior_wealth = 0  \n",
    "for i in range(4):\n",
    "    year = i + 1\n",
    "    wealth = wealth_year(model_data, year, prior_wealth)\n",
    "    print(f'The wealth at year {year} is £{wealth:,.0f}.')\n",
    "    \n",
    "    # Set next year's prior wealth to this year's wealth.\n",
    "    prior_wealth = wealth"
   ]
  },
  {
   "cell_type": "markdown",
   "id": "633bfd0e",
   "metadata": {},
   "source": [
    "### Run the retirement model"
   ]
  },
  {
   "cell_type": "code",
   "execution_count": 11,
   "id": "66e268fd",
   "metadata": {},
   "outputs": [],
   "source": [
    "# Runs the retirement model; collects salary and wealth information year by year\n",
    "# and stores it in a DataFrame for further analysis.\n",
    "def get_salaries_wealths_df(data):\n",
    "    # Start with no cash saved.\n",
    "    prior_wealth = 0   \n",
    "    wealth = 0\n",
    "    # The ‘year’ becomes ‘1’ on the first loop.\n",
    "    year = 0  \n",
    "\n",
    "    df_data_tups = []\n",
    "    while wealth < data.desired_cash:\n",
    "        year = year + 1\n",
    "        salary = wages_year(data, year)\n",
    "        wealth = wealth_year(data, year, prior_wealth)\n",
    "\n",
    "         # Set next year's prior wealth to this year's wealth.\n",
    "        prior_wealth = wealth \n",
    "\n",
    "        # Save the results in a tuple for later building the DataFrame.\n",
    "        df_data_tups.append((year, salary, wealth))\n",
    "        \n",
    "    # Now we have run the while loop, so wealth must be >= desired_cash. \n",
    "    # Create the DataFrame.\n",
    "    df = pd.DataFrame(df_data_tups, columns=['Year', 'Salary', 'Wealth'])\n",
    "    \n",
    "    return df"
   ]
  },
  {
   "cell_type": "code",
   "execution_count": 12,
   "id": "fc620a63",
   "metadata": {},
   "outputs": [
    {
     "data": {
      "text/html": [
       "<div>\n",
       "<style scoped>\n",
       "    .dataframe tbody tr th:only-of-type {\n",
       "        vertical-align: middle;\n",
       "    }\n",
       "\n",
       "    .dataframe tbody tr th {\n",
       "        vertical-align: top;\n",
       "    }\n",
       "\n",
       "    .dataframe thead th {\n",
       "        text-align: right;\n",
       "    }\n",
       "</style>\n",
       "<table border=\"1\" class=\"dataframe\">\n",
       "  <thead>\n",
       "    <tr style=\"text-align: right;\">\n",
       "      <th></th>\n",
       "      <th>Year</th>\n",
       "      <th>Salary</th>\n",
       "      <th>Wealth</th>\n",
       "    </tr>\n",
       "  </thead>\n",
       "  <tbody>\n",
       "    <tr>\n",
       "      <th>0</th>\n",
       "      <td>1</td>\n",
       "      <td>2.575000e+05</td>\n",
       "      <td>3.862500e+04</td>\n",
       "    </tr>\n",
       "    <tr>\n",
       "      <th>1</th>\n",
       "      <td>2</td>\n",
       "      <td>2.917475e+05</td>\n",
       "      <td>8.431838e+04</td>\n",
       "    </tr>\n",
       "    <tr>\n",
       "      <th>2</th>\n",
       "      <td>3</td>\n",
       "      <td>3.004999e+05</td>\n",
       "      <td>1.336093e+05</td>\n",
       "    </tr>\n",
       "    <tr>\n",
       "      <th>3</th>\n",
       "      <td>4</td>\n",
       "      <td>3.404664e+05</td>\n",
       "      <td>1.913597e+05</td>\n",
       "    </tr>\n",
       "    <tr>\n",
       "      <th>4</th>\n",
       "      <td>5</td>\n",
       "      <td>3.506804e+05</td>\n",
       "      <td>2.535298e+05</td>\n",
       "    </tr>\n",
       "    <tr>\n",
       "      <th>5</th>\n",
       "      <td>6</td>\n",
       "      <td>3.973209e+05</td>\n",
       "      <td>3.258044e+05</td>\n",
       "    </tr>\n",
       "    <tr>\n",
       "      <th>6</th>\n",
       "      <td>7</td>\n",
       "      <td>4.092405e+05</td>\n",
       "      <td>4.034807e+05</td>\n",
       "    </tr>\n",
       "    <tr>\n",
       "      <th>7</th>\n",
       "      <td>8</td>\n",
       "      <td>4.636695e+05</td>\n",
       "      <td>4.932051e+05</td>\n",
       "    </tr>\n",
       "    <tr>\n",
       "      <th>8</th>\n",
       "      <td>9</td>\n",
       "      <td>4.775796e+05</td>\n",
       "      <td>5.895023e+05</td>\n",
       "    </tr>\n",
       "    <tr>\n",
       "      <th>9</th>\n",
       "      <td>10</td>\n",
       "      <td>5.410977e+05</td>\n",
       "      <td>7.001421e+05</td>\n",
       "    </tr>\n",
       "    <tr>\n",
       "      <th>10</th>\n",
       "      <td>11</td>\n",
       "      <td>5.573306e+05</td>\n",
       "      <td>8.187488e+05</td>\n",
       "    </tr>\n",
       "    <tr>\n",
       "      <th>11</th>\n",
       "      <td>12</td>\n",
       "      <td>6.314556e+05</td>\n",
       "      <td>9.544046e+05</td>\n",
       "    </tr>\n",
       "    <tr>\n",
       "      <th>12</th>\n",
       "      <td>13</td>\n",
       "      <td>6.503993e+05</td>\n",
       "      <td>1.099685e+06</td>\n",
       "    </tr>\n",
       "    <tr>\n",
       "      <th>13</th>\n",
       "      <td>14</td>\n",
       "      <td>7.369024e+05</td>\n",
       "      <td>1.265204e+06</td>\n",
       "    </tr>\n",
       "    <tr>\n",
       "      <th>14</th>\n",
       "      <td>15</td>\n",
       "      <td>7.590094e+05</td>\n",
       "      <td>1.442316e+06</td>\n",
       "    </tr>\n",
       "    <tr>\n",
       "      <th>15</th>\n",
       "      <td>16</td>\n",
       "      <td>8.599577e+05</td>\n",
       "      <td>1.643425e+06</td>\n",
       "    </tr>\n",
       "    <tr>\n",
       "      <th>16</th>\n",
       "      <td>17</td>\n",
       "      <td>8.857564e+05</td>\n",
       "      <td>1.858460e+06</td>\n",
       "    </tr>\n",
       "    <tr>\n",
       "      <th>17</th>\n",
       "      <td>18</td>\n",
       "      <td>1.003562e+06</td>\n",
       "      <td>2.101917e+06</td>\n",
       "    </tr>\n",
       "  </tbody>\n",
       "</table>\n",
       "</div>"
      ],
      "text/plain": [
       "    Year        Salary        Wealth\n",
       "0      1  2.575000e+05  3.862500e+04\n",
       "1      2  2.917475e+05  8.431838e+04\n",
       "2      3  3.004999e+05  1.336093e+05\n",
       "3      4  3.404664e+05  1.913597e+05\n",
       "4      5  3.506804e+05  2.535298e+05\n",
       "5      6  3.973209e+05  3.258044e+05\n",
       "6      7  4.092405e+05  4.034807e+05\n",
       "7      8  4.636695e+05  4.932051e+05\n",
       "8      9  4.775796e+05  5.895023e+05\n",
       "9     10  5.410977e+05  7.001421e+05\n",
       "10    11  5.573306e+05  8.187488e+05\n",
       "11    12  6.314556e+05  9.544046e+05\n",
       "12    13  6.503993e+05  1.099685e+06\n",
       "13    14  7.369024e+05  1.265204e+06\n",
       "14    15  7.590094e+05  1.442316e+06\n",
       "15    16  8.599577e+05  1.643425e+06\n",
       "16    17  8.857564e+05  1.858460e+06\n",
       "17    18  1.003562e+06  2.101917e+06"
      ]
     },
     "execution_count": 12,
     "metadata": {},
     "output_type": "execute_result"
    }
   ],
   "source": [
    "# Format DataFrame for display.\n",
    "get_salaries_wealths_df(model_data)"
   ]
  },
  {
   "cell_type": "code",
   "execution_count": 13,
   "id": "e0b3fab5",
   "metadata": {},
   "outputs": [
    {
     "data": {
      "text/html": [
       "<div>\n",
       "<style scoped>\n",
       "    .dataframe tbody tr th:only-of-type {\n",
       "        vertical-align: middle;\n",
       "    }\n",
       "\n",
       "    .dataframe tbody tr th {\n",
       "        vertical-align: top;\n",
       "    }\n",
       "\n",
       "    .dataframe thead th {\n",
       "        text-align: right;\n",
       "    }\n",
       "</style>\n",
       "<table border=\"1\" class=\"dataframe\">\n",
       "  <thead>\n",
       "    <tr style=\"text-align: right;\">\n",
       "      <th></th>\n",
       "      <th>Year</th>\n",
       "      <th>Salary</th>\n",
       "      <th>Wealth</th>\n",
       "    </tr>\n",
       "  </thead>\n",
       "  <tbody>\n",
       "    <tr>\n",
       "      <th>0</th>\n",
       "      <td>1</td>\n",
       "      <td>257500.000000</td>\n",
       "      <td>38625.000000</td>\n",
       "    </tr>\n",
       "    <tr>\n",
       "      <th>1</th>\n",
       "      <td>2</td>\n",
       "      <td>291747.500000</td>\n",
       "      <td>84318.375000</td>\n",
       "    </tr>\n",
       "    <tr>\n",
       "      <th>2</th>\n",
       "      <td>3</td>\n",
       "      <td>300499.925000</td>\n",
       "      <td>133609.282500</td>\n",
       "    </tr>\n",
       "    <tr>\n",
       "      <th>3</th>\n",
       "      <td>4</td>\n",
       "      <td>340466.415025</td>\n",
       "      <td>191359.708879</td>\n",
       "    </tr>\n",
       "    <tr>\n",
       "      <th>4</th>\n",
       "      <td>5</td>\n",
       "      <td>350680.407476</td>\n",
       "      <td>253529.755444</td>\n",
       "    </tr>\n",
       "  </tbody>\n",
       "</table>\n",
       "</div>"
      ],
      "text/plain": [
       "   Year         Salary         Wealth\n",
       "0     1  257500.000000   38625.000000\n",
       "1     2  291747.500000   84318.375000\n",
       "2     3  300499.925000  133609.282500\n",
       "3     4  340466.415025  191359.708879\n",
       "4     5  350680.407476  253529.755444"
      ]
     },
     "execution_count": 13,
     "metadata": {},
     "output_type": "execute_result"
    }
   ],
   "source": [
    "# Save the function results into the DataFrame.\n",
    "results_df = get_salaries_wealths_df(model_data)\n",
    "\n",
    "# View the DataFrame.\n",
    "results_df.head()"
   ]
  },
  {
   "cell_type": "markdown",
   "id": "3ce37fd3",
   "metadata": {},
   "source": [
    "### Create visualisation"
   ]
  },
  {
   "cell_type": "code",
   "execution_count": 18,
   "id": "504c951b",
   "metadata": {},
   "outputs": [
    {
     "data": {
      "text/plain": [
       "<AxesSubplot:xlabel='Year'>"
      ]
     },
     "execution_count": 18,
     "metadata": {},
     "output_type": "execute_result"
    },
    {
     "data": {
      "image/png": "[encoded data removed]",
      "text/plain": [
       "<Figure size 432x288 with 1 Axes>"
      ]
     },
     "metadata": {
      "needs_background": "light"
     },
     "output_type": "display_data"
    }
   ],
   "source": [
    "# Visualise wage or salary change over time.\n",
    "results_df.plot( 'Year' , 'Salary')"
   ]
  },
  {
   "cell_type": "code",
   "execution_count": 19,
   "id": "788bcf90",
   "metadata": {},
   "outputs": [
    {
     "data": {
      "text/plain": [
       "<AxesSubplot:xlabel='Year'>"
      ]
     },
     "execution_count": 19,
     "metadata": {},
     "output_type": "execute_result"
    },
    {
     "data": {
      "image/png": "[encoded data removed]",
      "text/plain": [
       "<Figure size 432x288 with 1 Axes>"
      ]
     },
     "metadata": {
      "needs_background": "light"
     },
     "output_type": "display_data"
    }
   ],
   "source": [
    "# Visualise wealth change over time.\n",
    "results_df.plot( 'Year' , 'Wealth')"
   ]
  },
  {
   "cell_type": "markdown",
   "id": "de6c33e2",
   "metadata": {},
   "source": [
    "Calculations show that it will take 17.5 years to accumlated the desired retirement wealth. Whilst wealth increasing steadily over time, it can be observed that salary rate increases fluctuate in rate reflecting promotions that are predicted to occur every 2 years."
   ]
  },
  {
   "cell_type": "code",
   "execution_count": null,
   "id": "64eec47e",
   "metadata": {},
   "outputs": [],
   "source": []
  }
 ],
 "metadata": {
  "kernelspec": {
   "display_name": "Python 3 (ipykernel)",
   "language": "python",
   "name": "python3"
  },
  "language_info": {
   "codemirror_mode": {
    "name": "ipython",
    "version": 3
   },
   "file_extension": ".py",
   "mimetype": "text/x-python",
   "name": "python",
   "nbconvert_exporter": "python",
   "pygments_lexer": "ipython3",
   "version": "3.9.7"
  }
 },
 "nbformat": 4,
 "nbformat_minor": 5
}
