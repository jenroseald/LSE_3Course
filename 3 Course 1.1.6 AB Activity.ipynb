{
 "cells": [
  {
   "cell_type": "markdown",
   "id": "6334756d",
   "metadata": {},
   "source": [
    "## 3 Course 1.1.6 Practical Activity: Conduct A/B testing in Python"
   ]
  },
  {
   "cell_type": "markdown",
   "id": "932ec61a",
   "metadata": {},
   "source": [
    "An online bicycle store has changed its home page interface to encourage visitors to click through to their loyalty programme sign-up page. They are hoping the new interface will encourage more visitors to access the loyalty programme page, see what benefits the programme brings, and sign up. The current click-through rate sits at around 50% annually, and the company hopes the new design will push this to at least 55%.\n",
    "\n",
    "The company has asked you to run an A/B test to calculate whether the change to the home page interface has made a difference and whether more visitors have clicked through to the loyalty programme page. They’ve provided the relevant data set as a CSV file, and they have told you that users on the server ID1 are the treatment group and those on ID2 and ID3 are the control group. "
   ]
  },
  {
   "cell_type": "code",
   "execution_count": 30,
   "id": "3015c45a",
   "metadata": {},
   "outputs": [],
   "source": [
    "# Import the libraries, packages and classes\n",
    "import pandas as pd\n",
    "import math\n",
    "import numpy as np\n",
    "import statsmodels.stats.api as sms\n",
    "import scipy.stats as st\n",
    "import matplotlib as mpl\n",
    "import matplotlib.pyplot as plot"
   ]
  },
  {
   "cell_type": "code",
   "execution_count": 31,
   "id": "670b4b36",
   "metadata": {},
   "outputs": [],
   "source": [
    "import warnings\n",
    "warnings.filterwarnings('ignore')"
   ]
  },
  {
   "cell_type": "code",
   "execution_count": 32,
   "id": "55445266",
   "metadata": {},
   "outputs": [],
   "source": [
    "# import the necessary libraries\n",
    "from statsmodels.stats.power import TTestIndPower"
   ]
  },
  {
   "cell_type": "markdown",
   "id": "b3dd9ff4",
   "metadata": {},
   "source": [
    "### Work out the sample size"
   ]
  },
  {
   "cell_type": "code",
   "execution_count": 33,
   "id": "d5bfd36c",
   "metadata": {},
   "outputs": [
    {
     "name": "stdout",
     "output_type": "stream",
     "text": [
      "Sample Size: 1565.490\n"
     ]
    }
   ],
   "source": [
    "# Specify the three required parameters for the power analysis:\n",
    "alpha = 0.05\n",
    "power = 0.8\n",
    "effect = sms.proportion_effectsize(0.50, 0.55)\n",
    "\n",
    "# Perform power analysis by using the solve_power() function:\n",
    "# Specify an instance of 'TTestIndPower'.\n",
    "analysis = TTestIndPower()\n",
    "#Calculate the sample size and list the parameters\n",
    "result = analysis.solve_power(effect, power=power, nobs1=None, ratio=1.0, alpha=alpha)\n",
    "\n",
    "# Print the output.\n",
    "print('Sample Size: %.3f' % result)"
   ]
  },
  {
   "cell_type": "markdown",
   "id": "99f5f9a6",
   "metadata": {},
   "source": [
    "### Load the data"
   ]
  },
  {
   "cell_type": "code",
   "execution_count": 34,
   "id": "9f6afa01",
   "metadata": {},
   "outputs": [
    {
     "data": {
      "text/html": [
       "<div>\n",
       "<style scoped>\n",
       "    .dataframe tbody tr th:only-of-type {\n",
       "        vertical-align: middle;\n",
       "    }\n",
       "\n",
       "    .dataframe tbody tr th {\n",
       "        vertical-align: top;\n",
       "    }\n",
       "\n",
       "    .dataframe thead th {\n",
       "        text-align: right;\n",
       "    }\n",
       "</style>\n",
       "<table border=\"1\" class=\"dataframe\">\n",
       "  <thead>\n",
       "    <tr style=\"text-align: right;\">\n",
       "      <th></th>\n",
       "      <th>Unnamed: 0</th>\n",
       "      <th>RecordID</th>\n",
       "      <th>IPAddress</th>\n",
       "      <th>LoyaltyPage</th>\n",
       "      <th>ServerID</th>\n",
       "      <th>VisitPageFlag</th>\n",
       "    </tr>\n",
       "  </thead>\n",
       "  <tbody>\n",
       "    <tr>\n",
       "      <th>0</th>\n",
       "      <td>0</td>\n",
       "      <td>1</td>\n",
       "      <td>39.13.114.2</td>\n",
       "      <td>1</td>\n",
       "      <td>2</td>\n",
       "      <td>0</td>\n",
       "    </tr>\n",
       "    <tr>\n",
       "      <th>1</th>\n",
       "      <td>1</td>\n",
       "      <td>2</td>\n",
       "      <td>13.3.25.8</td>\n",
       "      <td>1</td>\n",
       "      <td>1</td>\n",
       "      <td>0</td>\n",
       "    </tr>\n",
       "    <tr>\n",
       "      <th>2</th>\n",
       "      <td>2</td>\n",
       "      <td>3</td>\n",
       "      <td>247.8.211.8</td>\n",
       "      <td>1</td>\n",
       "      <td>1</td>\n",
       "      <td>0</td>\n",
       "    </tr>\n",
       "    <tr>\n",
       "      <th>3</th>\n",
       "      <td>3</td>\n",
       "      <td>4</td>\n",
       "      <td>124.8.220.3</td>\n",
       "      <td>0</td>\n",
       "      <td>3</td>\n",
       "      <td>0</td>\n",
       "    </tr>\n",
       "    <tr>\n",
       "      <th>4</th>\n",
       "      <td>4</td>\n",
       "      <td>5</td>\n",
       "      <td>60.10.192.7</td>\n",
       "      <td>0</td>\n",
       "      <td>2</td>\n",
       "      <td>0</td>\n",
       "    </tr>\n",
       "  </tbody>\n",
       "</table>\n",
       "</div>"
      ],
      "text/plain": [
       "   Unnamed: 0  RecordID    IPAddress  LoyaltyPage  ServerID  VisitPageFlag\n",
       "0           0         1  39.13.114.2            1         2              0\n",
       "1           1         2    13.3.25.8            1         1              0\n",
       "2           2         3  247.8.211.8            1         1              0\n",
       "3           3         4  124.8.220.3            0         3              0\n",
       "4           4         5  60.10.192.7            0         2              0"
      ]
     },
     "execution_count": 34,
     "metadata": {},
     "output_type": "execute_result"
    }
   ],
   "source": [
    "# Read the CSV file\n",
    "df = pd.read_csv('new_bike_shop_AB.csv')\n",
    "\n",
    "# View the DataFrame\n",
    "df.head()"
   ]
  },
  {
   "cell_type": "code",
   "execution_count": 35,
   "id": "c4fe2541",
   "metadata": {},
   "outputs": [
    {
     "data": {
      "text/plain": [
       "(184588, 6)"
      ]
     },
     "execution_count": 35,
     "metadata": {},
     "output_type": "execute_result"
    }
   ],
   "source": [
    "df.shape"
   ]
  },
  {
   "cell_type": "code",
   "execution_count": 36,
   "id": "b5942dda",
   "metadata": {},
   "outputs": [
    {
     "name": "stdout",
     "output_type": "stream",
     "text": [
      "<class 'pandas.core.frame.DataFrame'>\n",
      "RangeIndex: 184588 entries, 0 to 184587\n",
      "Data columns (total 6 columns):\n",
      " #   Column         Non-Null Count   Dtype \n",
      "---  ------         --------------   ----- \n",
      " 0   Unnamed: 0     184588 non-null  int64 \n",
      " 1   RecordID       184588 non-null  int64 \n",
      " 2   IPAddress      184588 non-null  object\n",
      " 3   LoyaltyPage    184588 non-null  int64 \n",
      " 4   ServerID       184588 non-null  int64 \n",
      " 5   VisitPageFlag  184588 non-null  int64 \n",
      "dtypes: int64(5), object(1)\n",
      "memory usage: 8.4+ MB\n"
     ]
    }
   ],
   "source": [
    "df.info()"
   ]
  },
  {
   "cell_type": "markdown",
   "id": "37b1894b",
   "metadata": {},
   "source": [
    "### Clean the data set"
   ]
  },
  {
   "cell_type": "code",
   "execution_count": 37,
   "id": "e4fa39b0",
   "metadata": {},
   "outputs": [
    {
     "name": "stdout",
     "output_type": "stream",
     "text": [
      "        Unnamed: 0  RecordID     IPAddress  LoyaltyPage  ServerID  \\\n",
      "275            275       276    191.4.97.7            0         2   \n",
      "394            394       395     79.9.70.7            1         3   \n",
      "703            703       704    175.1.81.8            1         3   \n",
      "809            809       810    125.0.30.9            1         2   \n",
      "889            889       890  207.14.157.6            1         3   \n",
      "...            ...       ...           ...          ...       ...   \n",
      "184582      184582    184583    90.4.224.4            0         3   \n",
      "184583      184583    184584   114.8.104.1            0         1   \n",
      "184585      184585    184586   170.13.31.9            0         2   \n",
      "184586      184586    184587   195.14.92.3            0         3   \n",
      "184587      184587    184588  172.12.115.8            0         2   \n",
      "\n",
      "        VisitPageFlag  \n",
      "275                 0  \n",
      "394                 0  \n",
      "703                 0  \n",
      "809                 0  \n",
      "889                 0  \n",
      "...               ...  \n",
      "184582              0  \n",
      "184583              0  \n",
      "184585              0  \n",
      "184586              0  \n",
      "184587              1  \n",
      "\n",
      "[85072 rows x 6 columns]\n"
     ]
    }
   ],
   "source": [
    "# Check for duplicates\n",
    "print(df[df.IPAddress.duplicated()])"
   ]
  },
  {
   "cell_type": "code",
   "execution_count": 46,
   "id": "1f02d81e",
   "metadata": {},
   "outputs": [],
   "source": [
    "# Drop the duplicates by IPAddress\n",
    "df2 = df.drop_duplicates(subset = 'IPAddress')"
   ]
  },
  {
   "cell_type": "code",
   "execution_count": 47,
   "id": "27fc2a99",
   "metadata": {},
   "outputs": [
    {
     "name": "stdout",
     "output_type": "stream",
     "text": [
      "<class 'pandas.core.frame.DataFrame'>\n",
      "Int64Index: 39608 entries, 7 to 184584\n",
      "Data columns (total 6 columns):\n",
      " #   Column         Non-Null Count  Dtype \n",
      "---  ------         --------------  ----- \n",
      " 0   Unnamed: 0     39608 non-null  int64 \n",
      " 1   RecordID       39608 non-null  int64 \n",
      " 2   IPAddress      39608 non-null  object\n",
      " 3   LoyaltyPage    39608 non-null  int64 \n",
      " 4   ServerID       39608 non-null  int64 \n",
      " 5   VisitPageFlag  39608 non-null  int64 \n",
      "dtypes: int64(5), object(1)\n",
      "memory usage: 2.1+ MB\n"
     ]
    }
   ],
   "source": [
    "df2.info()"
   ]
  },
  {
   "cell_type": "markdown",
   "id": "8ab2c733",
   "metadata": {},
   "source": [
    "### Remove unnecessary columns"
   ]
  },
  {
   "cell_type": "code",
   "execution_count": 48,
   "id": "17c30082",
   "metadata": {},
   "outputs": [
    {
     "data": {
      "text/html": [
       "<div>\n",
       "<style scoped>\n",
       "    .dataframe tbody tr th:only-of-type {\n",
       "        vertical-align: middle;\n",
       "    }\n",
       "\n",
       "    .dataframe tbody tr th {\n",
       "        vertical-align: top;\n",
       "    }\n",
       "\n",
       "    .dataframe thead th {\n",
       "        text-align: right;\n",
       "    }\n",
       "</style>\n",
       "<table border=\"1\" class=\"dataframe\">\n",
       "  <thead>\n",
       "    <tr style=\"text-align: right;\">\n",
       "      <th></th>\n",
       "      <th>IPAddress</th>\n",
       "      <th>LoyaltyPage</th>\n",
       "      <th>ServerID</th>\n",
       "    </tr>\n",
       "  </thead>\n",
       "  <tbody>\n",
       "    <tr>\n",
       "      <th>7</th>\n",
       "      <td>97.6.126.6</td>\n",
       "      <td>0</td>\n",
       "      <td>3</td>\n",
       "    </tr>\n",
       "    <tr>\n",
       "      <th>12</th>\n",
       "      <td>188.13.62.2</td>\n",
       "      <td>0</td>\n",
       "      <td>3</td>\n",
       "    </tr>\n",
       "    <tr>\n",
       "      <th>14</th>\n",
       "      <td>234.1.239.1</td>\n",
       "      <td>0</td>\n",
       "      <td>2</td>\n",
       "    </tr>\n",
       "    <tr>\n",
       "      <th>15</th>\n",
       "      <td>167.15.157.7</td>\n",
       "      <td>0</td>\n",
       "      <td>2</td>\n",
       "    </tr>\n",
       "    <tr>\n",
       "      <th>16</th>\n",
       "      <td>123.12.229.8</td>\n",
       "      <td>0</td>\n",
       "      <td>1</td>\n",
       "    </tr>\n",
       "  </tbody>\n",
       "</table>\n",
       "</div>"
      ],
      "text/plain": [
       "       IPAddress  LoyaltyPage  ServerID\n",
       "7     97.6.126.6            0         3\n",
       "12   188.13.62.2            0         3\n",
       "14   234.1.239.1            0         2\n",
       "15  167.15.157.7            0         2\n",
       "16  123.12.229.8            0         1"
      ]
     },
     "execution_count": 48,
     "metadata": {},
     "output_type": "execute_result"
    }
   ],
   "source": [
    "# Drop irrelevant columns: Unnamed, RecordID and VisitPageFlag\n",
    "# Specify that Unnamed, RecordID and VisitPageFlag are columns (i.e. axis=1)\n",
    "df_final = df2.drop(['Unnamed: 0', 'RecordID', 'VisitPageFlag'], axis=1)\n",
    "\n",
    "# Check the DataFrame\n",
    "df_final.head()"
   ]
  },
  {
   "cell_type": "code",
   "execution_count": 49,
   "id": "bd6c4db6",
   "metadata": {},
   "outputs": [
    {
     "data": {
      "text/plain": [
       "(39608, 3)"
      ]
     },
     "execution_count": 49,
     "metadata": {},
     "output_type": "execute_result"
    }
   ],
   "source": [
    "df_final.shape"
   ]
  },
  {
   "cell_type": "code",
   "execution_count": 50,
   "id": "1340e412",
   "metadata": {},
   "outputs": [
    {
     "data": {
      "text/plain": [
       "<bound method DataFrame.info of            IPAddress  LoyaltyPage  ServerID\n",
       "7         97.6.126.6            0         3\n",
       "12       188.13.62.2            0         3\n",
       "14       234.1.239.1            0         2\n",
       "15      167.15.157.7            0         2\n",
       "16      123.12.229.8            0         1\n",
       "...              ...          ...       ...\n",
       "184570     11.2.87.5            0         3\n",
       "184573     18.6.86.9            0         1\n",
       "184578  199.14.104.7            1         2\n",
       "184580    93.3.115.6            1         3\n",
       "184584   207.2.110.5            0         2\n",
       "\n",
       "[39608 rows x 3 columns]>"
      ]
     },
     "execution_count": 50,
     "metadata": {},
     "output_type": "execute_result"
    }
   ],
   "source": [
    "df_final.info"
   ]
  },
  {
   "cell_type": "markdown",
   "id": "5e942fca",
   "metadata": {},
   "source": [
    "### Subset the DataFrame with map() method"
   ]
  },
  {
   "cell_type": "code",
   "execution_count": 51,
   "id": "09b02948",
   "metadata": {},
   "outputs": [
    {
     "name": "stdout",
     "output_type": "stream",
     "text": [
      "(39608, 4)\n"
     ]
    },
    {
     "data": {
      "text/html": [
       "<div>\n",
       "<style scoped>\n",
       "    .dataframe tbody tr th:only-of-type {\n",
       "        vertical-align: middle;\n",
       "    }\n",
       "\n",
       "    .dataframe tbody tr th {\n",
       "        vertical-align: top;\n",
       "    }\n",
       "\n",
       "    .dataframe thead th {\n",
       "        text-align: right;\n",
       "    }\n",
       "</style>\n",
       "<table border=\"1\" class=\"dataframe\">\n",
       "  <thead>\n",
       "    <tr style=\"text-align: right;\">\n",
       "      <th></th>\n",
       "      <th>IPAddress</th>\n",
       "      <th>LoyaltyPage</th>\n",
       "      <th>ServerID</th>\n",
       "      <th>Group</th>\n",
       "    </tr>\n",
       "  </thead>\n",
       "  <tbody>\n",
       "    <tr>\n",
       "      <th>7</th>\n",
       "      <td>97.6.126.6</td>\n",
       "      <td>0</td>\n",
       "      <td>3</td>\n",
       "      <td>Control</td>\n",
       "    </tr>\n",
       "    <tr>\n",
       "      <th>12</th>\n",
       "      <td>188.13.62.2</td>\n",
       "      <td>0</td>\n",
       "      <td>3</td>\n",
       "      <td>Control</td>\n",
       "    </tr>\n",
       "    <tr>\n",
       "      <th>14</th>\n",
       "      <td>234.1.239.1</td>\n",
       "      <td>0</td>\n",
       "      <td>2</td>\n",
       "      <td>Control</td>\n",
       "    </tr>\n",
       "    <tr>\n",
       "      <th>15</th>\n",
       "      <td>167.15.157.7</td>\n",
       "      <td>0</td>\n",
       "      <td>2</td>\n",
       "      <td>Control</td>\n",
       "    </tr>\n",
       "    <tr>\n",
       "      <th>16</th>\n",
       "      <td>123.12.229.8</td>\n",
       "      <td>0</td>\n",
       "      <td>1</td>\n",
       "      <td>Treatment</td>\n",
       "    </tr>\n",
       "  </tbody>\n",
       "</table>\n",
       "</div>"
      ],
      "text/plain": [
       "       IPAddress  LoyaltyPage  ServerID      Group\n",
       "7     97.6.126.6            0         3    Control\n",
       "12   188.13.62.2            0         3    Control\n",
       "14   234.1.239.1            0         2    Control\n",
       "15  167.15.157.7            0         2    Control\n",
       "16  123.12.229.8            0         1  Treatment"
      ]
     },
     "execution_count": 51,
     "metadata": {},
     "output_type": "execute_result"
    }
   ],
   "source": [
    "# Split data set into ID1 as treatment and ID2 & ID3 as control groups.\n",
    "df_final['Group'] = df_final['ServerID'].map({1:'Treatment', 2:'Control', 3:'Control'})\n",
    "\n",
    "# View DataFrame.\n",
    "print(df_final.shape)\n",
    "df_final.head()"
   ]
  },
  {
   "cell_type": "code",
   "execution_count": 52,
   "id": "64a8936a",
   "metadata": {},
   "outputs": [
    {
     "data": {
      "text/plain": [
       "Control      26310\n",
       "Treatment    13298\n",
       "Name: Group, dtype: int64"
      ]
     },
     "execution_count": 52,
     "metadata": {},
     "output_type": "execute_result"
    }
   ],
   "source": [
    "# count the values\n",
    "df_final[\"Group\"].value_counts()"
   ]
  },
  {
   "cell_type": "markdown",
   "id": "c3a7cf9d",
   "metadata": {},
   "source": [
    "### Create the Sample: Split the df into two: control and treatment"
   ]
  },
  {
   "cell_type": "code",
   "execution_count": 56,
   "id": "37183bbd",
   "metadata": {},
   "outputs": [
    {
     "name": "stdout",
     "output_type": "stream",
     "text": [
      "           IPAddress  LoyaltyPage  ServerID    Group\n",
      "178875   110.13.32.9            0         3  Control\n",
      "127932     11.1.11.1            1         2  Control\n",
      "20425    234.4.250.3            0         2  Control\n",
      "104611   244.12.33.1            1         2  Control\n",
      "132873    232.4.61.9            0         2  Control\n",
      "...              ...          ...       ...      ...\n",
      "118109   251.0.237.2            1         3  Control\n",
      "87173     192.2.62.4            1         3  Control\n",
      "44491     65.12.18.6            1         2  Control\n",
      "65759   210.16.220.4            1         3  Control\n",
      "174048   90.11.120.7            0         3  Control\n",
      "\n",
      "[1566 rows x 4 columns]\n",
      "          IPAddress  LoyaltyPage  ServerID      Group\n",
      "127674   79.7.253.6            1         1  Treatment\n",
      "36272     13.16.6.9            1         1  Treatment\n",
      "100570  213.10.22.5            0         1  Treatment\n",
      "162988   232.4.29.4            1         1  Treatment\n",
      "159937   75.1.232.4            0         1  Treatment\n",
      "...             ...          ...       ...        ...\n",
      "15561   158.5.109.2            1         1  Treatment\n",
      "6115      28.2.49.7            0         1  Treatment\n",
      "84460    81.8.204.9            1         1  Treatment\n",
      "19161   146.5.252.2            0         1  Treatment\n",
      "58396      4.6.12.7            1         1  Treatment\n",
      "\n",
      "[1566 rows x 4 columns]\n"
     ]
    }
   ],
   "source": [
    "# Create two DataFrames.\n",
    "# You can use any random_state.\n",
    "c_sample = df_final[df_final['Group'] == 'Control'].sample(n=1566,\n",
    "                                                           random_state=22) \n",
    "\n",
    "t_sample = df_final[df_final['Group'] == 'Treatment'].sample(n=1566,\n",
    "                                                             random_state=22)\n",
    "\n",
    "# View the DataFrames.\n",
    "print(c_sample)\n",
    "print(t_sample)"
   ]
  },
  {
   "cell_type": "markdown",
   "id": "1157a1d2",
   "metadata": {},
   "source": [
    "### Perform the A/B Test"
   ]
  },
  {
   "cell_type": "code",
   "execution_count": 57,
   "id": "87d637a5",
   "metadata": {},
   "outputs": [],
   "source": [
    "# Join the two samples\n",
    "ab_test = pd.concat([c_sample, t_sample], axis=0)"
   ]
  },
  {
   "cell_type": "code",
   "execution_count": 58,
   "id": "ef8809af",
   "metadata": {},
   "outputs": [],
   "source": [
    "# Reset the A/B index\n",
    "ab_test.reset_index(drop=True, inplace=True)"
   ]
  },
  {
   "cell_type": "code",
   "execution_count": 59,
   "id": "14ad9a6c",
   "metadata": {},
   "outputs": [
    {
     "data": {
      "text/html": [
       "<div>\n",
       "<style scoped>\n",
       "    .dataframe tbody tr th:only-of-type {\n",
       "        vertical-align: middle;\n",
       "    }\n",
       "\n",
       "    .dataframe tbody tr th {\n",
       "        vertical-align: top;\n",
       "    }\n",
       "\n",
       "    .dataframe thead th {\n",
       "        text-align: right;\n",
       "    }\n",
       "</style>\n",
       "<table border=\"1\" class=\"dataframe\">\n",
       "  <thead>\n",
       "    <tr style=\"text-align: right;\">\n",
       "      <th></th>\n",
       "      <th>IPAddress</th>\n",
       "      <th>LoyaltyPage</th>\n",
       "      <th>ServerID</th>\n",
       "      <th>Group</th>\n",
       "    </tr>\n",
       "  </thead>\n",
       "  <tbody>\n",
       "    <tr>\n",
       "      <th>0</th>\n",
       "      <td>110.13.32.9</td>\n",
       "      <td>0</td>\n",
       "      <td>3</td>\n",
       "      <td>Control</td>\n",
       "    </tr>\n",
       "    <tr>\n",
       "      <th>1</th>\n",
       "      <td>11.1.11.1</td>\n",
       "      <td>1</td>\n",
       "      <td>2</td>\n",
       "      <td>Control</td>\n",
       "    </tr>\n",
       "    <tr>\n",
       "      <th>2</th>\n",
       "      <td>234.4.250.3</td>\n",
       "      <td>0</td>\n",
       "      <td>2</td>\n",
       "      <td>Control</td>\n",
       "    </tr>\n",
       "    <tr>\n",
       "      <th>3</th>\n",
       "      <td>244.12.33.1</td>\n",
       "      <td>1</td>\n",
       "      <td>2</td>\n",
       "      <td>Control</td>\n",
       "    </tr>\n",
       "    <tr>\n",
       "      <th>4</th>\n",
       "      <td>232.4.61.9</td>\n",
       "      <td>0</td>\n",
       "      <td>2</td>\n",
       "      <td>Control</td>\n",
       "    </tr>\n",
       "    <tr>\n",
       "      <th>...</th>\n",
       "      <td>...</td>\n",
       "      <td>...</td>\n",
       "      <td>...</td>\n",
       "      <td>...</td>\n",
       "    </tr>\n",
       "    <tr>\n",
       "      <th>3127</th>\n",
       "      <td>158.5.109.2</td>\n",
       "      <td>1</td>\n",
       "      <td>1</td>\n",
       "      <td>Treatment</td>\n",
       "    </tr>\n",
       "    <tr>\n",
       "      <th>3128</th>\n",
       "      <td>28.2.49.7</td>\n",
       "      <td>0</td>\n",
       "      <td>1</td>\n",
       "      <td>Treatment</td>\n",
       "    </tr>\n",
       "    <tr>\n",
       "      <th>3129</th>\n",
       "      <td>81.8.204.9</td>\n",
       "      <td>1</td>\n",
       "      <td>1</td>\n",
       "      <td>Treatment</td>\n",
       "    </tr>\n",
       "    <tr>\n",
       "      <th>3130</th>\n",
       "      <td>146.5.252.2</td>\n",
       "      <td>0</td>\n",
       "      <td>1</td>\n",
       "      <td>Treatment</td>\n",
       "    </tr>\n",
       "    <tr>\n",
       "      <th>3131</th>\n",
       "      <td>4.6.12.7</td>\n",
       "      <td>1</td>\n",
       "      <td>1</td>\n",
       "      <td>Treatment</td>\n",
       "    </tr>\n",
       "  </tbody>\n",
       "</table>\n",
       "<p>3132 rows × 4 columns</p>\n",
       "</div>"
      ],
      "text/plain": [
       "        IPAddress  LoyaltyPage  ServerID      Group\n",
       "0     110.13.32.9            0         3    Control\n",
       "1       11.1.11.1            1         2    Control\n",
       "2     234.4.250.3            0         2    Control\n",
       "3     244.12.33.1            1         2    Control\n",
       "4      232.4.61.9            0         2    Control\n",
       "...           ...          ...       ...        ...\n",
       "3127  158.5.109.2            1         1  Treatment\n",
       "3128    28.2.49.7            0         1  Treatment\n",
       "3129   81.8.204.9            1         1  Treatment\n",
       "3130  146.5.252.2            0         1  Treatment\n",
       "3131     4.6.12.7            1         1  Treatment\n",
       "\n",
       "[3132 rows x 4 columns]"
      ]
     },
     "execution_count": 59,
     "metadata": {},
     "output_type": "execute_result"
    }
   ],
   "source": [
    "# View output.\n",
    "ab_test"
   ]
  },
  {
   "cell_type": "code",
   "execution_count": 60,
   "id": "2977bb41",
   "metadata": {},
   "outputs": [],
   "source": [
    "# Import library\n",
    "from scipy.stats import sem"
   ]
  },
  {
   "cell_type": "code",
   "execution_count": 70,
   "id": "d7c15123",
   "metadata": {},
   "outputs": [
    {
     "data": {
      "text/html": [
       "<style type=\"text/css\">\n",
       "</style>\n",
       "<table id=\"T_8fa0a_\">\n",
       "  <thead>\n",
       "    <tr>\n",
       "      <th class=\"blank level0\" >&nbsp;</th>\n",
       "      <th class=\"col_heading level0 col0\" >conversion_rate</th>\n",
       "      <th class=\"col_heading level0 col1\" >std_deviation</th>\n",
       "      <th class=\"col_heading level0 col2\" >std_error</th>\n",
       "    </tr>\n",
       "    <tr>\n",
       "      <th class=\"index_name level0\" >Group</th>\n",
       "      <th class=\"blank col0\" >&nbsp;</th>\n",
       "      <th class=\"blank col1\" >&nbsp;</th>\n",
       "      <th class=\"blank col2\" >&nbsp;</th>\n",
       "    </tr>\n",
       "  </thead>\n",
       "  <tbody>\n",
       "    <tr>\n",
       "      <th id=\"T_8fa0a_level0_row0\" class=\"row_heading level0 row0\" >Control</th>\n",
       "      <td id=\"T_8fa0a_row0_col0\" class=\"data row0 col0\" >0.513</td>\n",
       "      <td id=\"T_8fa0a_row0_col1\" class=\"data row0 col1\" >0.500</td>\n",
       "      <td id=\"T_8fa0a_row0_col2\" class=\"data row0 col2\" >0.013</td>\n",
       "    </tr>\n",
       "    <tr>\n",
       "      <th id=\"T_8fa0a_level0_row1\" class=\"row_heading level0 row1\" >Treatment</th>\n",
       "      <td id=\"T_8fa0a_row1_col0\" class=\"data row1 col0\" >0.498</td>\n",
       "      <td id=\"T_8fa0a_row1_col1\" class=\"data row1 col1\" >0.500</td>\n",
       "      <td id=\"T_8fa0a_row1_col2\" class=\"data row1 col2\" >0.013</td>\n",
       "    </tr>\n",
       "  </tbody>\n",
       "</table>\n"
      ],
      "text/plain": [
       "<pandas.io.formats.style.Styler at 0x7f8b1801d1c0>"
      ]
     },
     "execution_count": 70,
     "metadata": {},
     "output_type": "execute_result"
    }
   ],
   "source": [
    "# Calculate the conversion rates.\n",
    "conversion_rates = ab_test.groupby('Group')['LoyaltyPage']\n",
    "\n",
    "\n",
    "# Standard deviation of the proportion.\n",
    "STD_p = lambda x: np.std(x, ddof=0)    \n",
    "# Standard error of the proportion.\n",
    "SE_p = lambda x: st.sem(x, ddof=0)     \n",
    "\n",
    "conversion_rates = conversion_rates.agg([np.mean, STD_p, SE_p])\n",
    "conversion_rates.columns = ['conversion_rate', 'std_deviation', 'std_error']\n",
    "\n",
    "\n",
    "conversion_rates.style.format('{:.3f}')"
   ]
  },
  {
   "cell_type": "markdown",
   "id": "4bba5408",
   "metadata": {},
   "source": [
    "### Calculate statistical significance"
   ]
  },
  {
   "cell_type": "code",
   "execution_count": 63,
   "id": "069c3ff0",
   "metadata": {},
   "outputs": [],
   "source": [
    "# Import proportions_ztest and proportion_confint from statsmodels\n",
    "from statsmodels.stats.proportion import proportions_ztest, proportion_confint"
   ]
  },
  {
   "cell_type": "code",
   "execution_count": 71,
   "id": "7767965f",
   "metadata": {},
   "outputs": [],
   "source": [
    "# Create a subset of control and treatment results\n",
    "control_results = ab_test[ab_test['Group'] == 'Control']['LoyaltyPage']\n",
    "treatment_results = ab_test[ab_test['Group'] == 'Treatment']['LoyaltyPage']"
   ]
  },
  {
   "cell_type": "code",
   "execution_count": 72,
   "id": "2168a19d",
   "metadata": {},
   "outputs": [],
   "source": [
    "# Determine the count of the control_results and\n",
    "# treatment_results sub-datasets and store them in their respective variables\n",
    "n_con = control_results.count()\n",
    "n_treat = treatment_results.count()"
   ]
  },
  {
   "cell_type": "code",
   "execution_count": 73,
   "id": "ef44af01",
   "metadata": {},
   "outputs": [],
   "source": [
    "# Create a variable 'success' with the sum of the two data sets\n",
    "# in a list format\n",
    "success = [control_results.sum(), treatment_results.sum()]"
   ]
  },
  {
   "cell_type": "code",
   "execution_count": 74,
   "id": "35099ab1",
   "metadata": {},
   "outputs": [],
   "source": [
    "# Create a variable 'nobs' which stores the values of\n",
    "# variables n_con and n_treat in list format\n",
    "nobs = [n_con, n_treat]"
   ]
  },
  {
   "cell_type": "code",
   "execution_count": 75,
   "id": "d08e669e",
   "metadata": {},
   "outputs": [],
   "source": [
    "# Use the imported libraries to calculate the statistical values\n",
    "z_stat, pval = proportions_ztest(success, nobs=nobs)\n",
    "(lower_con, lower_treat), (upper_con, upper_treat) = proportion_confint(success, nobs=nobs, alpha=0.05)"
   ]
  },
  {
   "cell_type": "code",
   "execution_count": 76,
   "id": "20b3f770",
   "metadata": {},
   "outputs": [
    {
     "name": "stdout",
     "output_type": "stream",
     "text": [
      "Z test stat: 0.82\n",
      "P-value: 0.411\n",
      "Confidence Interval of 95% for control group: [0.488, 0.538]\n",
      "Confidence Interval of 95% for treatment group: [0.473, 0.523]\n"
     ]
    }
   ],
   "source": [
    "# Print the outputs (with lead-in text)\n",
    "print(f'Z test stat: {z_stat:.2f}')\n",
    "print(f'P-value: {pval:.3f}')\n",
    "print(f'Confidence Interval of 95% for control group: [{lower_con:.3f}, {upper_con:.3f}]')\n",
    "print(f'Confidence Interval of 95% for treatment group: [{lower_treat:.3f}, {upper_treat:.3f}]')"
   ]
  },
  {
   "cell_type": "markdown",
   "id": "accf9ddf",
   "metadata": {},
   "source": [
    "### Summary Findings\n",
    "\n",
    "The P value is 41.1% which is much higher than the 5% Significance Level. This suggests that the sample is consistent with the H0 (original control hypothesis). This means that the new design did not perform better than the original control designs. \n",
    "\n",
    "The confidence interval for the treatment group is 47.3% to 52.3%. An imapct effect from 50% to 55% was desired. Therefore some improvement was observed with the home page design but it did not reach the required 55%."
   ]
  },
  {
   "cell_type": "code",
   "execution_count": null,
   "id": "cd1ef847",
   "metadata": {},
   "outputs": [],
   "source": []
  }
 ],
 "metadata": {
  "kernelspec": {
   "display_name": "Python 3 (ipykernel)",
   "language": "python",
   "name": "python3"
  },
  "language_info": {
   "codemirror_mode": {
    "name": "ipython",
    "version": 3
   },
   "file_extension": ".py",
   "mimetype": "text/x-python",
   "name": "python",
   "nbconvert_exporter": "python",
   "pygments_lexer": "ipython3",
   "version": "3.9.7"
  }
 },
 "nbformat": 4,
 "nbformat_minor": 5
}
